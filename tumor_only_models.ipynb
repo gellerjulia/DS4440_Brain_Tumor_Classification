{
 "cells": [
  {
   "attachments": {},
   "cell_type": "markdown",
   "metadata": {
    "datalore": {
     "hide_input_from_viewers": false,
     "hide_output_from_viewers": false,
     "node_id": "Sheet",
     "sheet_delimiter": true,
     "type": "MD"
    }
   },
   "source": [
    "# Models Trained on Tumor Images Only"
   ]
  },
  {
   "cell_type": "code",
   "execution_count": 1,
   "metadata": {
    "datalore": {
     "hide_input_from_viewers": true,
     "hide_output_from_viewers": true,
     "node_id": "WuWysVPluA4XK3SNCpkf1L",
     "type": "CODE"
    }
   },
   "outputs": [],
   "source": [
    "# import necessary libraries\n",
    "import numpy as np\n",
    "from torch import nn\n",
    "import torch\n",
    "import torchvision\n",
    "import matplotlib.pyplot as plt\n",
    "import numpy as np\n",
    "import torchvision.transforms as transforms\n",
    "from IPython.display import display\n",
    "from utils import *\n"
   ]
  },
  {
   "cell_type": "markdown",
   "metadata": {},
   "source": [
    "Define Global Variable"
   ]
  },
  {
   "cell_type": "code",
   "execution_count": null,
   "metadata": {
    "datalore": {
     "hide_input_from_viewers": true,
     "hide_output_from_viewers": true,
     "node_id": "k2kq8GJlPbPKNuY1iNgIQw",
     "type": "CODE"
    }
   },
   "outputs": [],
   "source": [
    "paper_transform = torchvision.transforms.Compose([\n",
    "    torchvision.transforms.Grayscale(num_output_channels=1),\n",
    "    torchvision.transforms.ToTensor() ])"
   ]
  },
  {
   "cell_type": "code",
   "execution_count": null,
   "metadata": {
    "datalore": {
     "hide_input_from_viewers": true,
     "hide_output_from_viewers": true,
     "node_id": "hSX8cwTCaALmQx1QklbHC7",
     "type": "CODE"
    }
   },
   "outputs": [],
   "source": [
    "adj_transform = transforms.Compose([\n",
    "    transforms.ToTensor(),  \n",
    "    torchvision.transforms.Grayscale(num_output_channels=1),\n",
    "    # Convert images to tensors\n",
    "    transforms.Normalize((0.,), (1.,))  # Normalize image tensors\n",
    "])"
   ]
  },
  {
   "cell_type": "code",
   "execution_count": null,
   "metadata": {},
   "outputs": [],
   "source": [
    "device = torch.device(\"cuda\" if torch.cuda.is_available() else \"cpu\")"
   ]
  },
  {
   "cell_type": "markdown",
   "metadata": {},
   "source": [
    "Train and Evaluate Adjusted Model"
   ]
  },
  {
   "cell_type": "code",
   "execution_count": null,
   "metadata": {
    "datalore": {
     "hide_input_from_viewers": true,
     "hide_output_from_viewers": true,
     "node_id": "7l1V1gJCv4S2yeuiRFPqlh",
     "type": "CODE"
    }
   },
   "outputs": [],
   "source": [
    "# create train, validition, and test sets\n",
    "balanced_adj_train_set = torchvision.datasets.ImageFolder(\n",
    "    'balanced_data/tumor_only/train',\n",
    "    transform=adj_transform\n",
    ")\n",
    "\n",
    "balanced_adj_train_loader = torch.utils.data.DataLoader(\n",
    "    balanced_adj_train_set,\n",
    "    batch_size=128,\n",
    "    shuffle=True,\n",
    "    num_workers=0,  \n",
    "    pin_memory=True,\n",
    ")\n",
    "\n",
    "balanced_adj_val_set = torchvision.datasets.ImageFolder(\n",
    "    'balanced_data/tumor_only/validation',\n",
    "    transform=adj_transform\n",
    ")\n",
    "\n",
    "balanced_adj_val_loader = torch.utils.data.DataLoader(\n",
    "    balanced_adj_val_set,\n",
    "    batch_size=128,\n",
    "    shuffle=True,\n",
    "    num_workers=0, \n",
    "    pin_memory=True,\n",
    ")\n",
    "\n",
    "balanced_adj_test_set = torchvision.datasets.ImageFolder(\n",
    "    'balanced_data/tumor_only/test',\n",
    "    transform=adj_transform\n",
    ")\n",
    "\n",
    "balanced_adj_test_loader = torch.utils.data.DataLoader(\n",
    "    balanced_adj_test_set,\n",
    "    batch_size=128,\n",
    "    shuffle=True,\n",
    "    num_workers=0,  \n",
    "    pin_memory=True,\n",
    ")"
   ]
  },
  {
   "cell_type": "code",
   "execution_count": null,
   "metadata": {},
   "outputs": [],
   "source": [
    "# number of classes in the dataset\n",
    "num_classes = len(balanced_adj_train_set.classes)\n",
    "\n",
    "# create adjusted model\n",
    "model = BrainTumorCNN(num_classes).to(device)\n",
    "loss_fn = nn.CrossEntropyLoss()\n",
    "optimizer = torch.optim.Adam(model.parameters(), lr=0.001)\n",
    "epochs = 20\n",
    "\n",
    "training_losses = []\n",
    "validation_losses = []\n",
    "for epoch in range(epochs):\n",
    "    train_loss, train_acc = train_model(model, balanced_adj_train_loader, loss_fn, optimizer)\n",
    "    training_losses.append(train_loss)\n",
    "    val_loss, val_acc = evaluate_model(model, balanced_adj_val_loader, loss_fn, device)\n",
    "    validation_losses.append(val_loss)\n",
    "    print(\n",
    "        f\"epoch: {epoch+1}/{epochs} | train loss={np.mean(train_loss):.4f}, {train_acc=:.4f} | val loss: {np.mean(val_loss):.4f}, {val_acc=:.4f}\"\n",
    "    )"
   ]
  },
  {
   "cell_type": "code",
   "execution_count": null,
   "metadata": {
    "datalore": {
     "hide_input_from_viewers": true,
     "hide_output_from_viewers": true,
     "node_id": "dPk7pDS1iWSMc8GYxweL1j",
     "type": "CODE"
    }
   },
   "outputs": [],
   "source": [
    "test_loss, test_acc, test_confusion_matrix = evaluate_model(\n",
    "    model, balanced_adj_test_loader, loss_fn, device, return_confusion_matrix=True\n",
    ")\n",
    "print(f\"{test_loss=}, {test_acc=}\")\n",
    "draw_confusion_matrix(test_confusion_matrix, balanced_adj_val_set, balanced_adj_train_set.classes)"
   ]
  },
  {
   "cell_type": "markdown",
   "metadata": {},
   "source": [
    "Train and Evaluate Paper's Model"
   ]
  },
  {
   "cell_type": "code",
   "execution_count": null,
   "metadata": {},
   "outputs": [],
   "source": [
    "# create train, validition, and test sets\n",
    "balanced_pap_train_set = torchvision.datasets.ImageFolder(\n",
    "    'balanced_data/tumor_only/train',\n",
    "    transform=paper_transform\n",
    ")\n",
    "\n",
    "balanced_pap_train_loader = torch.utils.data.DataLoader(\n",
    "    balanced_pap_train_set,\n",
    "    batch_size=128,\n",
    "    shuffle=True,\n",
    "    num_workers=0,  \n",
    "    pin_memory=True,\n",
    ")\n",
    "\n",
    "balanced_pap_val_set = torchvision.datasets.ImageFolder(\n",
    "    'balanced_data/tumor_only/validation',\n",
    "    transform=paper_transform\n",
    ")\n",
    "\n",
    "balanced_pap_val_loader = torch.utils.data.DataLoader(\n",
    "    balanced_pap_val_set,\n",
    "    batch_size=128,\n",
    "    shuffle=True,\n",
    "    num_workers=0, \n",
    "    pin_memory=True,\n",
    ")\n",
    "\n",
    "balanced_pap_test_set = torchvision.datasets.ImageFolder(\n",
    "    'balanced_data/tumor_only/test',\n",
    "    transform=paper_transform\n",
    ")\n",
    "\n",
    "balanced_pap_test_loader = torch.utils.data.DataLoader(\n",
    "    balanced_pap_test_set,\n",
    "    batch_size=128,\n",
    "    shuffle=True,\n",
    "    num_workers=0,  \n",
    "    pin_memory=True,\n",
    ")"
   ]
  },
  {
   "cell_type": "code",
   "execution_count": null,
   "metadata": {},
   "outputs": [],
   "source": [
    "# paper's model\n",
    "model = BrainTumorCLF().to(device)\n",
    "loss_fn = nn.CrossEntropyLoss()\n",
    "optimizer = torch.optim.Adam(model.parameters(), lr=0.001)\n",
    "epochs = 10\n",
    "\n",
    "training_losses = []\n",
    "validation_losses = []\n",
    "for epoch in range(epochs):\n",
    "    train_loss, train_acc = train_model(model, balanced_pap_train_loader, loss_fn, optimizer)\n",
    "    training_losses.append(train_loss)\n",
    "    val_loss, val_acc, val_precision, val_recall = evaluate_model(model, balanced_pap_val_loader, loss_fn, device)\n",
    "    validation_losses.append(val_loss)\n",
    "    print(\n",
    "        f\"epoch: {epoch+1}/{epochs} | train loss={np.mean(train_loss):.4f}, {train_acc=:.4f} | val loss: {np.mean(val_loss):.4f}, {val_acc=:.4f}\"\n",
    "    )"
   ]
  },
  {
   "cell_type": "code",
   "execution_count": null,
   "metadata": {},
   "outputs": [],
   "source": [
    "import matplotlib.pyplot as plt\n",
    "\n",
    "def plot_weight_histograms(model):\n",
    "    # Count the number of convolutional and linear layers\n",
    "    num_layers = sum(isinstance(layer, nn.Conv2d) or isinstance(layer, nn.Linear) for _, layer in model.named_children())\n",
    "    \n",
    "    # Create a figure and axis for plotting\n",
    "    fig, axs = plt.subplots(nrows=num_layers, ncols=1, figsize=(8, 6 * num_layers))\n",
    "\n",
    "    # Track the current subplot index\n",
    "    subplot_index = 0\n",
    "\n",
    "    # Extract weights from each layer and plot histogram\n",
    "    for layer_name, layer in model.named_children():\n",
    "        # Check if the layer is a convolutional or linear layer\n",
    "        if isinstance(layer, nn.Conv2d) or isinstance(layer, nn.Linear):\n",
    "            weights = layer.weight.detach().numpy().flatten()\n",
    "\n",
    "            # Plot histogram of weights\n",
    "            axs[subplot_index].hist(weights, bins=50)\n",
    "            axs[subplot_index].set_title(f'{layer_name} Weight Histogram')\n",
    "   \n",
    "plot_weight_histograms(model)"
   ]
  },
  {
   "cell_type": "code",
   "execution_count": null,
   "metadata": {},
   "outputs": [],
   "source": [
    "test_loss, test_acc, test_precision, test_recall, test_confusion_matrix = evaluate_model(\n",
    "    model, balanced_pap_test_loader, loss_fn, device, return_confusion_matrix=True\n",
    ")\n",
    "print(f\"Test Loss: {test_loss}, Test Accuracy: {test_acc}, Test Precision: {test_precision}, Test Recall: {test_recall}\")\n",
    "\n",
    "confusion_matrix = draw_confusion_matrix(test_confusion_matrix, balanced_pap_val_set, balanced_pap_train_set.classes)"
   ]
  }
 ],
 "metadata": {
  "datalore": {
   "base_environment": "default",
   "computation_mode": "JUPYTER",
   "package_manager": "pip",
   "packages": [],
   "report_row_ids": [],
   "version": 3
  },
  "kernelspec": {
   "display_name": "Python 3",
   "language": "python",
   "name": "python3"
  },
  "language_info": {
   "codemirror_mode": {
    "name": "ipython",
    "version": 3
   },
   "file_extension": ".py",
   "mimetype": "text/x-python",
   "name": "python",
   "nbconvert_exporter": "python",
   "pygments_lexer": "ipython3",
   "version": "3.12.2"
  }
 },
 "nbformat": 4,
 "nbformat_minor": 4
}
