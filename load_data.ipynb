{
 "cells": [
  {
   "cell_type": "code",
   "execution_count": 1,
   "metadata": {},
   "outputs": [],
   "source": [
    "# import necessary libraries\n",
    "import h5py\n",
    "import os\n",
    "import numpy as np\n",
    "from PIL import Image\n",
    "import cv2"
   ]
  },
  {
   "cell_type": "markdown",
   "metadata": {},
   "source": [
    "## Load Data\n",
    "Loads the balanced dataset (500 train, 100 validation, 100 test) and imbalanced dataset (same as balanced except class 2 is 836 train, 50 validation, 50 train). For each, class 4 when included is 219 train, 50 val, 50 test."
   ]
  },
  {
   "cell_type": "code",
   "execution_count": 96,
   "metadata": {},
   "outputs": [],
   "source": [
    "def load_data(save_path: str, data_type: str, balanced: bool):\n",
    "    \n",
    "    if data_type == \"tumor healthy\":\n",
    "        classes = [1,2,3,4]\n",
    "    elif data_type == \"tumor only\":\n",
    "        classes = [1,2,3]\n",
    "    elif data_type == \"2 tumors\":\n",
    "        classes = [1,2]\n",
    "    else:\n",
    "        raise ValueError('Invalid data type given.')\n",
    "    \n",
    "    tum_cnt_dct = {'train':{1:0, 2:0,3:0}, 'test':{1:0, 2:0,3:0}, 'validation':{1:0, 2:0,3:0}}\n",
    "    i = 0\n",
    "\n",
    "    # load fig share data (tumors)\n",
    "    for dir in ['raw_data/fig_share/brainTumorDataPublic_1766', 'raw_data/fig_share/brainTumorDataPublic_7671532', 'raw_data/fig_share/brainTumorDataPublic_15332298', 'raw_data/fig_share/brainTumorDataPublic_22993064']:    \n",
    "        for fi_name in os.listdir(dir):\n",
    "            path = os.path.join(dir, fi_name)\n",
    "            \n",
    "            with h5py.File(path, 'r') as file:\n",
    "                img = file['cjdata']['image'][:]\n",
    "                \n",
    "                img = img.astype(np.uint8)\n",
    "                img = cv2.resize(img, (64, 64))\n",
    "                img = Image.fromarray(img)\n",
    "\n",
    "                label = int(file['cjdata']['label'][:][0][0])\n",
    "                if label not in classes:\n",
    "                    break\n",
    "                \n",
    "                if balanced or label != 2:\n",
    "                    if tum_cnt_dct['train'][label]<500:\n",
    "                            folder='train'\n",
    "                            tum_cnt_dct['train'][label] += 1\n",
    "                    elif tum_cnt_dct['validation'][label] < 100:\n",
    "                        folder = 'validation'\n",
    "                        tum_cnt_dct['validation'][label] += 1\n",
    "                    elif tum_cnt_dct['test'][label] < 100:\n",
    "                        folder = 'test'\n",
    "                        tum_cnt_dct['test'][label] += 1\n",
    "                    else:\n",
    "                        break\n",
    "                else:\n",
    "                    if tum_cnt_dct['train'][label]<836:\n",
    "                            folder='train'\n",
    "                            tum_cnt_dct['train'][label] += 1\n",
    "                    elif tum_cnt_dct['validation'][label] < 50:\n",
    "                        folder = 'validation'\n",
    "                        tum_cnt_dct['validation'][label] += 1\n",
    "                    elif tum_cnt_dct['test'][label] < 50:\n",
    "                        folder = 'test'\n",
    "                        tum_cnt_dct['test'][label] += 1\n",
    "                    else:\n",
    "                        break\n",
    "    \n",
    "                img.save(f\"{save_path}/{folder}/{label}/{i}.jpg\")\n",
    "                i +=1\n",
    "        \n",
    "    # load sartaj data (healthy) if needed\n",
    "    if 4 in classes:\n",
    "        dir = 'raw_data/SARTAJ'\n",
    "        hlthy_cnt = 0\n",
    "        \n",
    "        for i, fi_name in enumerate(os.listdir(dir)):\n",
    "             \n",
    "            if hlthy_cnt < 219:\n",
    "                 folder = 'train'\n",
    "            elif hlthy_cnt < 269:\n",
    "                 folder = 'validation'\n",
    "            elif hlthy_cnt < 319:\n",
    "                 folder = 'test'\n",
    "            else:\n",
    "                 break\n",
    "            \n",
    "            hlthy_cnt += 1\n",
    "            \n",
    "            img_path = f\"{save_path}/{folder}/4/{i}.jpg\"\n",
    "            img = Image.open(os.path.join(dir, fi_name))\n",
    "            img = img.resize((64, 64))\n",
    "            img.save(img_path) \n",
    "            \n",
    "            i += 1               \n"
   ]
  },
  {
   "cell_type": "markdown",
   "metadata": {},
   "source": [
    "Load Tumor and Healthy Data"
   ]
  },
  {
   "cell_type": "code",
   "execution_count": 45,
   "metadata": {},
   "outputs": [],
   "source": [
    "# load balanced data\n",
    "load_data(\"balanced_data/tumor_healthy\", 'tumor healthy', True)"
   ]
  },
  {
   "cell_type": "code",
   "execution_count": 102,
   "metadata": {},
   "outputs": [],
   "source": [
    "# load imbalanced data\n",
    "load_data(\"imbalanced_data/tumor_healthy\", 'tumor healthy', False)"
   ]
  },
  {
   "cell_type": "markdown",
   "metadata": {},
   "source": [
    "Load Tumor Data"
   ]
  },
  {
   "cell_type": "code",
   "execution_count": 55,
   "metadata": {},
   "outputs": [],
   "source": [
    "# load balanced data\n",
    "load_data(\"balanced_data/tumor_only\", 'tumor only', True)"
   ]
  },
  {
   "cell_type": "code",
   "execution_count": 104,
   "metadata": {},
   "outputs": [],
   "source": [
    "# load imbalanced data\n",
    "load_data(\"imbalanced_data/tumor_only\", 'tumor only', False)"
   ]
  },
  {
   "cell_type": "markdown",
   "metadata": {},
   "source": [
    "Load 2 Tumor Data"
   ]
  },
  {
   "cell_type": "code",
   "execution_count": 105,
   "metadata": {},
   "outputs": [],
   "source": [
    "# load balanced data\n",
    "load_data(\"balanced_data/2_tumors\", '2 tumors', True)"
   ]
  },
  {
   "cell_type": "code",
   "execution_count": 106,
   "metadata": {},
   "outputs": [],
   "source": [
    "# load imbalanced data\n",
    "load_data(\"imbalanced_data/2_tumors\", '2 tumors', False)"
   ]
  }
 ],
 "metadata": {
  "kernelspec": {
   "display_name": "Python 3",
   "language": "python",
   "name": "python3"
  },
  "language_info": {
   "codemirror_mode": {
    "name": "ipython",
    "version": 3
   },
   "file_extension": ".py",
   "mimetype": "text/x-python",
   "name": "python",
   "nbconvert_exporter": "python",
   "pygments_lexer": "ipython3",
   "version": "3.12.2"
  }
 },
 "nbformat": 4,
 "nbformat_minor": 2
}
